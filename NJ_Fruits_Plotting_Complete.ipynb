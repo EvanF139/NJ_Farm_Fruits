{
 "cells": [
  {
   "cell_type": "code",
   "execution_count": 1,
   "id": "7652fafa",
   "metadata": {},
   "outputs": [],
   "source": [
    "import pandas as pd\n",
    "import numpy as np\n",
    "import matplotlib.pyplot as plt\n",
    "import seaborn as sns"
   ]
  },
  {
   "cell_type": "code",
   "execution_count": 2,
   "id": "c9cd1e9c",
   "metadata": {},
   "outputs": [],
   "source": [
    "All_Noncitrus_Fruit_data = {\n",
    "    'Geographic_Area': ['New Jersey', 'Atlantic', 'Bergen', 'Burlington', 'Camden', 'Cape May', 'Cumberland', 'Essex', 'Gloucester', 'Hudson', 'Hunterdon', 'Mercer', 'Middlesex', 'Monmouth', 'Morris', 'Ocean', 'Passaic', 'Salem', 'Somerset', 'Sussex', 'Warren'],\n",
    "    'Total_Farms_2022': [799, 32, 7, 44, 12, 15, 31, 1, 64, 2, 143, 38, 30, 62, 75, 19, 13, 31, 38, 78, 64],\n",
    "    'Total_Acres_2022': [9090, 0, 0, 187, 279, 0, 0, 0, 1853, 0, 659, 343, 0, 467, 332, 0, 15, 621, 92, 365, 383],\n",
    "    'Bearing_Age_Farms_2022': [636, 17, 7, 32, 8, 15, 24, 1, 57, 2, 120, 28, 29, 48, 40, 14, 13, 27, 33, 66, 55],\n",
    "    'Bearing_Age_Acres_2022': [8337, 234, 52, 140, 233, 0, 2794, 0, 1788, 0, 528, 310, 93, 397, 305, 85, 14, 577, 82, 312, 335],\n",
    "    'Nonbearing_Age_Farms_2022': [409, 21, 6, 27, 9, 4, 12, 0, 35, 2, 81, 24, 6, 31, 48, 12, 7, 11, 16, 30, 27],\n",
    "    'Nonbearing_Age_Acres_2022': [752, 0, 0, 47, 46, 0, 0, 0, 65, 0, 131, 33, 0, 71, 27, 0, 2, 44, 10, 53, 48],\n",
    "    'Total_Farms_2017': [730, 37, 4, 28, 16, 23, 30, 1, 60, 0, 116, 30, 21, 57, 40, 16, 9, 23, 47, 99, 73],\n",
    "    'Total_Acres_2017': [8678, 0, 0, 0, 227, 147, 0, 0, 1559, 0, 0, 0, 76, 488, 238, 0, 14, 0, 64, 389, 0],\n",
    "    'Bearing_Age_Farms_2017': [597, 35, 4, 18, 0, 21, 28, 1, 44, 0, 92, 0, 16, 53, 36, 11, 7, 20, 34, 73, 63],\n",
    "    'Bearing_Age_Acres_2017': [7621, 178, 40, 165, 0, 132, 2070, 0, 1434, 0, 419, 0, 71, 401, 221, 64, 7, 1214, 47, 307, 374],\n",
    "    'Nonbearing_Age_Farms_2017': [329, 11, 3, 17, 2, 7, 15, 0, 26, 0, 47, 0, 10, 22, 20, 0, 6, 8, 27, 54, 35],\n",
    "    'Nonbearing_Age_Acres_2017': [1057, 0, 0, 0, 0, 15, 0, 0, 125, 0, 92, 0, 5, 87, 17, 0, 7, 0, 16, 82, 0]\n",
    "}"
   ]
  },
  {
   "cell_type": "code",
   "execution_count": 3,
   "id": "ebefffb7",
   "metadata": {},
   "outputs": [],
   "source": [
    "def plot_fruit_data(data, fruit_name):\n",
    "    df = pd.DataFrame(data)\n",
    "\n",
    "    df = df[df['Geographic_Area'] != 'New Jersey']\n",
    "    df_2022_acres = df[['Geographic_Area', 'Total_Acres_2022', 'Bearing_Age_Acres_2022', 'Nonbearing_Age_Acres_2022']]\n",
    "    df_2017_acres = df[['Geographic_Area', 'Total_Acres_2017', 'Bearing_Age_Acres_2017', 'Nonbearing_Age_Acres_2017']]\n",
    "    df_2022_farms = df[['Geographic_Area', 'Total_Farms_2022', 'Bearing_Age_Farms_2022', 'Nonbearing_Age_Farms_2022']]\n",
    "    df_2017_farms = df[['Geographic_Area', 'Total_Farms_2017', 'Bearing_Age_Farms_2017', 'Nonbearing_Age_Farms_2017']]\n",
    "\n",
    "    df_2022_acres_melted = pd.melt(df_2022_acres, id_vars=['Geographic_Area'], var_name='Acres_Type', value_name='Acres')\n",
    "    df_2017_acres_melted = pd.melt(df_2017_acres, id_vars=['Geographic_Area'], var_name='Acres_Type', value_name='Acres')\n",
    "\n",
    "    df_2022_farms_melted = pd.melt(df_2022_farms, id_vars=['Geographic_Area'], var_name='Farm_Type', value_name='Number_of_Farms')\n",
    "    df_2017_farms_melted = pd.melt(df_2017_farms, id_vars=['Geographic_Area'], var_name='Farm_Type', value_name='Number_of_Farms')\n",
    "\n",
    "    # Plotting for Acres in 2022\n",
    "    plt.figure(figsize=(18, 12))\n",
    "    plt.subplot(2, 2, 1)\n",
    "    sns.barplot(data=df_2022_acres_melted, x='Geographic_Area', y='Acres', hue='Acres_Type')\n",
    "    plt.title(f'{fruit_name} Acres in 2022')\n",
    "    plt.xlabel('Geographic Area')\n",
    "    plt.ylabel('Acres')\n",
    "    plt.xticks(rotation=45)\n",
    "    plt.legend(title='Acres Type')\n",
    "\n",
    "    # Plotting for Farms in 2022\n",
    "    plt.subplot(2, 2, 2)\n",
    "    sns.barplot(data=df_2022_farms_melted, x='Geographic_Area', y='Number_of_Farms', hue='Farm_Type')\n",
    "    plt.title(f'{fruit_name} Farms in 2022')\n",
    "    plt.xlabel('Geographic Area')\n",
    "    plt.ylabel('Number of Farms')\n",
    "    plt.xticks(rotation=45)\n",
    "    plt.legend(title='Farm Type')\n",
    "\n",
    "    # Plotting for Acres in 2017\n",
    "    plt.subplot(2, 2, 3)\n",
    "    sns.barplot(data=df_2017_acres_melted, x='Geographic_Area', y='Acres', hue='Acres_Type')\n",
    "    plt.title(f'{fruit_name} Acres in 2017')\n",
    "    plt.xlabel('Geographic Area')\n",
    "    plt.ylabel('Acres')\n",
    "    plt.xticks(rotation=45)\n",
    "    plt.legend(title='Acres Type')\n",
    "\n",
    "    # Plotting for Farms in 2017\n",
    "    plt.subplot(2, 2, 4)\n",
    "    sns.barplot(data=df_2017_farms_melted, x='Geographic_Area', y='Number_of_Farms', hue='Farm_Type')\n",
    "    plt.title(f'{fruit_name} Farms in 2017')\n",
    "    plt.xlabel('Geographic Area')\n",
    "    plt.ylabel('Number of Farms')\n",
    "    plt.xticks(rotation=45)\n",
    "    plt.legend(title='Farm Type')\n",
    "\n",
    "    plt.tight_layout()\n",
    "    plt.show()\n",
    "    \n",
    "    # Save DataFrame to CSV\n",
    "    df.to_csv(f\"{fruit_name.lower().replace(' ', '_')}.csv\", index=False)\n",
    "\n",
    "# Example usage:\n",
    "# Assuming 'data' and 'fruit_name' are already defined\n",
    "# plot_fruit_data(data, 'Fruit Name')"
   ]
  },
  {
   "cell_type": "code",
   "execution_count": 4,
   "id": "53245700",
   "metadata": {},
   "outputs": [],
   "source": [
    "# plot_fruit_data(All_Noncitrus_Fruit_data, \"All Noncitrus Fruit\")"
   ]
  },
  {
   "cell_type": "code",
   "execution_count": 5,
   "id": "3c27cb0b",
   "metadata": {},
   "outputs": [],
   "source": [
    "Apples_data = {\n",
    "    'Geographic_Area': ['New Jersey', 'Atlantic', 'Bergen', 'Burlington', 'Camden', 'Cape May', 'Cumberland', 'Essex', 'Gloucester', 'Hunterdon', 'Mercer', 'Middlesex', 'Monmouth', 'Morris', 'Ocean', 'Passaic', 'Salem', 'Somerset', 'Sussex', 'Warren'],\n",
    "    'Total_Farms_2022': [487, 14, 6, 18, 3, 0, 9, 0, 23, 101, 14, 19, 44, 57, 15, 12, 18, 27, 62, 45],\n",
    "    'Total_Acres_2022': [2481, 0, 38, 65, 0, 0, 484, 0, 312, 300, 87, 51, 232, 212, 41, 5, 86, 38, 286, 175],\n",
    "    'Bearing_Age_Farms_2022': [370, 4, 6, 12, 1, 0, 6, 0, 18, 86, 9, 18, 35, 33, 13, 12, 14, 23, 51, 29],\n",
    "    'Bearing_Age_Acres_2022': [2238, 0, 35, 46, 0, 0, 0, 0, 303, 275, 78, 42, 179, 200, 36, 0, 61, 36, 246, 155],\n",
    "    'Nonbearing_Age_Farms_2022': [236, 12, 5, 13, 2, 0, 4, 0, 9, 42, 10, 3, 23, 36, 9, 6, 10, 5, 23, 24],\n",
    "    'Nonbearing_Age_Acres_2022': [243, 0, 3, 19, 0, 0, 0, 0, 9, 25, 9, 9, 53, 11, 5, 0, 26, 2, 40, 21],\n",
    "    'Total_Farms_2017': [489, 20, 3, 20, 3, 0, 8, 1, 34, 104, 20, 12, 35, 35, 10, 4, 13, 36, 69, 57],\n",
    "    'Total_Acres_2017': [2232, 53, 30, 109, 0, 0, 352, 0, 271, 282, 76, 42, 210, 151, 18, 0, 81, 33, 242, 234],\n",
    "    'Bearing_Age_Farms_2017': [384, 15, 3, 13, 3, 0, 7, 0, 26, 85, 18, 11, 33, 34, 5, 2, 9, 26, 41, 47],\n",
    "    'Bearing_Age_Acres_2017': [1914, 51, 0, 103, 0, 0, 0, 0, 258, 215, 64, 40, 190, 138, 16, 0, 17, 28, 186, 184],\n",
    "    'Nonbearing_Age_Farms_2017': [201, 7, 2, 10, 0, 0, 2, 0, 13, 32, 8, 5, 9, 16, 7, 2, 6, 17, 39, 26],\n",
    "    'Nonbearing_Age_Acres_2017': [319, 2, 0, 6, 0, 0, 0, 0, 14, 67, 12, 2, 20, 13, 2, 0, 65, 5, 56, 49]\n",
    "}\n",
    "\n",
    "# plot_fruit_data(Apples_data, \"Apples\")"
   ]
  },
  {
   "cell_type": "code",
   "execution_count": 6,
   "id": "b7fc3106",
   "metadata": {},
   "outputs": [],
   "source": [
    "apricots_data = {\n",
    "    'Geographic_Area': ['New Jersey', 'Atlantic', 'Burlington', 'Gloucester', 'Hunterdon', 'Mercer', 'Monmouth', 'Morris', 'Ocean', 'Somerset', 'Sussex', 'Warren'],\n",
    "    'Total_Farms_2022': [19, 1, 0, 2, 4, 1, 5, 1, 0, 0, 2, 3],\n",
    "    'Total_Acres_2022': [28, 0, 0, 0, 0, 0, 0, 0, 0, 0, 0, 2],\n",
    "    'Bearing_Age_Farms_2022': [11, 1, 0, 0, 0, 0, 5, 1, 0, 0, 1, 3],\n",
    "    'Bearing_Age_Acres_2022': [19, 0, 0, 0, 0, 0, 0, 0, 0, 0, 0, 1],\n",
    "    'Nonbearing_Age_Farms_2022': [12, 0, 0, 2, 4, 1, 1, 0, 3, 0, 6, 3],\n",
    "    'Nonbearing_Age_Acres_2022': [8, 0, 0, 0, 0, 0, 0, 0, 0, 0, 1, 2],\n",
    "    'Total_Farms_2017': [23, 1, 2, 0, 4, 1, 1, 0, 4, 2, 6, 4],\n",
    "    'Total_Acres_2017': [28, 0, 1, 0, 1, 0, 1, 0, 1, 0, 4, 4],\n",
    "    'Bearing_Age_Farms_2017': [15, 0, 1, 0, 4, 0, 1, 0, 1, 0, 4, 4],\n",
    "    'Bearing_Age_Acres_2017': [21, 0, 1, 0, 1, 0, 1, 0, 1, 0, 4, 4],\n",
    "    'Nonbearing_Age_Farms_2017': [9, 0, 1, 0, 0, 0, 1, 0, 3, 0, 2, 0],\n",
    "    'Nonbearing_Age_Acres_2017': [7, 0, 1, 0, 0, 0, 1, 0, 3, 0, 2, 0]\n",
    "}\n",
    "\n",
    "# plot_fruit_data(apricots_data, \"Apricots\")"
   ]
  },
  {
   "cell_type": "code",
   "execution_count": 7,
   "id": "8195b1f9",
   "metadata": {},
   "outputs": [],
   "source": [
    "# skipped CHERIMOYAS - too small, had 1 farm in Ocean County in 2017, no longer there"
   ]
  },
  {
   "cell_type": "code",
   "execution_count": 8,
   "id": "898f0fd7",
   "metadata": {},
   "outputs": [],
   "source": [
    "sweet_cherries_data = {\n",
    "    'Geographic_Area': ['New Jersey', 'Atlantic', 'Burlington', 'Cumberland', 'Essex', 'Gloucester', 'Hunterdon', 'Mercer', 'Middlesex', 'Monmouth', 'Morris', 'Ocean', 'Passaic', 'Salem', 'Somerset', 'Sussex', 'Warren'],\n",
    "    'Total_Farms_2022': [98, 2, 6, 8, 0, 2, 23, 5, 2, 9, 15, 4, 5, 3, 5, 4, 5],\n",
    "    'Total_Acres_2022': [583, 0, 4, 452, 0, 0, 8, 4, 0, 2, 8, 1, 1, 0, 2, 0, 3],\n",
    "    'Bearing_Age_Farms_2022': [57, 0, 6, 8, 0, 2, 10, 3, 2, 1, 6, 2, 5, 3, 3, 2, 4],\n",
    "    'Bearing_Age_Acres_2022': [564, 0, 4, 0, 0, 2, 4, 3, 0, 0, 7, 1, 1, 0, 1, 1, 4],\n",
    "    'Nonbearing_Age_Farms_2022': [57, 2, 0, 1, 0, 4, 19, 4, 0, 8, 9, 4, 3, 1, 2, 3, 4],\n",
    "    'Nonbearing_Age_Acres_2022': [19, 0, 0, 0, 0, 72, 4, 0, 0, 1, 1, 1, 0, 101, 1, 2, 2],\n",
    "    'Total_Farms_2017': [69, 4, 3, 5, 1, 4, 11, 2, 1, 4, 7, 3, 3, 4, 5, 4, 7],\n",
    "    'Total_Acres_2017': [503, 0, 0, 301, 0, 56, 8, 0, 0, 1, 3, 1, 1, 0, 1, 3, 4],\n",
    "    'Bearing_Age_Farms_2017': [46, 1, 2, 5, 1, 4, 5, 2, 0, 4, 4, 1, 1, 3, 3, 1, 7],\n",
    "    'Bearing_Age_Acres_2017': [482, 0, 1, 0, 0, 15, 6, 0, 0, 1, 3, 1, 1, 0, 1, 1, 4],\n",
    "    'Nonbearing_Age_Farms_2017': [28, 3, 1, 1, 0, 4, 6, 0, 1, 0, 3, 0, 2, 1, 2, 4, 0],\n",
    "    'Nonbearing_Age_Acres_2017': [21, 0, 1, 1, 0, 2, 2, 0, 0, 0, 3, 0, 2, 1, 2, 4, 0]\n",
    "}\n",
    "\n",
    "# plot_fruit_data(sweet_cherries_data, \"Sweet Cherries\")"
   ]
  },
  {
   "cell_type": "code",
   "execution_count": 9,
   "id": "126f5e00",
   "metadata": {},
   "outputs": [],
   "source": [
    "tart_cherries_data = {\n",
    "    'Geographic_Area': ['New Jersey', 'Atlantic', 'Bergen', 'Burlington', 'Cape May', 'Cumberland', 'Gloucester', 'Hunterdon', 'Mercer', 'Middlesex', 'Monmouth', 'Morris', 'Ocean', 'Passaic', 'Salem', 'Somerset', 'Sussex', 'Warren'],\n",
    "    'Total_Farms_2022': [65, 1, 1, 5, 3, 1, 2, 21, 1, 6, 4, 6, 0, 5, 0, 0, 1, 8],\n",
    "    'Total_Acres_2022': [36, 0, 0, 0, 0, 0, 0, 5, 0, 1, 8, 5, 0, 0, 0, 0, 0, 4],\n",
    "    'Bearing_Age_Farms_2022': [51, 1, 1, 5, 3, 0, 2, 12, 1, 5, 4, 3, 0, 5, 3, 2, 1, 8],\n",
    "    'Bearing_Age_Acres_2022': [28, 0, 0, 0, 0, 0, 0, 3, 0, 0, 8, 3, 0, 0, 2, 0, 0, 4],\n",
    "    'Nonbearing_Age_Farms_2022': [21, 0, 1, 0, 0, 1, 1, 10, 0, 1, 1, 3, 0, 0, 0, 0, 0, 3],\n",
    "    'Nonbearing_Age_Acres_2022': [8, 0, 0, 0, 0, 0, 0, 1, 0, 0, 0, 0, 0, 0, 0, 0, 0, 0],\n",
    "    'Total_Farms_2017': [51, 0, 1, 2, 0, 0, 2, 14, 2, 1, 7, 2, 2, 1, 3, 2, 3, 9],\n",
    "    'Total_Acres_2017': [42, 0, 0, 1, 0, 0, 0, 4, 0, 0, 8, 1, 1, 0, 2, 0, 1, 4],\n",
    "    'Bearing_Age_Farms_2017': [33, 0, 0, 1, 0, 0, 2, 6, 0, 0, 7, 1, 1, 1, 3, 0, 1, 7],\n",
    "    'Bearing_Age_Acres_2017': [34, 0, 0, 0, 0, 0, 0, 2, 0, 0, 8, 1, 1, 0, 2, 0, 1, 7],\n",
    "    'Nonbearing_Age_Farms_2017': [20, 0, 1, 1, 0, 0, 1, 8, 0, 1, 0, 1, 0, 2, 0, 2, 2, 2],\n",
    "    'Nonbearing_Age_Acres_2017': [8, 0, 0, 0, 0, 0, 0, 2, 0, 0, 0, 0, 0, 0, 0, 0, 0, 0]\n",
    "}\n",
    "\n",
    "# plot_fruit_data(tart_cherries_data, \"Tart Cherries\")"
   ]
  },
  {
   "cell_type": "code",
   "execution_count": 10,
   "id": "cb12b73b",
   "metadata": {},
   "outputs": [],
   "source": [
    "# ran into issue with formatting of Bearing_Age_Farms not being in index because I missed \"Age\" while formatting\n",
    "\n",
    "figs_data = {\n",
    "    'Geographic_Area': ['New Jersey', 'Atlantic', 'Burlington', 'Gloucester', 'Hunterdon', 'Mercer', 'Middlesex', 'Monmouth', 'Morris', 'Ocean', 'Somerset', 'Sussex', 'Warren'],\n",
    "    'Total_Farms_2022': [40, 1, 4, 3, 11, 5, 2, 6, 1, 1, 1, 1, 3],\n",
    "    'Total_Acres_2022': [12, 0, 1, 1, 3, 1, 0, 1, 0, 0, 0, 0, 1],\n",
    "    'Bearing_Age_Farms_2022': [24, 1, 4, 3, 1, 3, 2, 3, 1, 1, 1, 0, 3],\n",
    "    'Bearing_Age_Acres_2022': [8, 0, 0, 0, 0, 0, 0, 1, 0, 0, 0, 0, 1],\n",
    "    'Nonbearing_Age_Farms_2022': [21, 0, 1, 1, 10, 4, 0, 3, 0, 1, 0, 0, 0],\n",
    "    'Nonbearing_Age_Acres_2022': [4, 0, 0, 0, 1, 0, 0, 1, 0, 0, 0, 0, 0],\n",
    "    'Total_Farms_2017': [15, 1, 2, 2, 5, 1, 2, 6, 1, 1, 0, 0, 0],\n",
    "    'Total_Acres_2017': [0, 0, 0, 0, 2, 0, 0, 1, 0, 0, 0, 0, 0],\n",
    "    'Bearing_Age_Farms_2017': [11, 1, 1, 1, 2, 1, 1, 1, 1, 1, 0, 0, 0],\n",
    "    'Bearing_Age_Acres_2017': [3, 0, 0, 0, 1, 0, 0, 1, 0, 0, 0, 0, 0],\n",
    "    'Nonbearing_Age_Farms_2017': [4, 0, 1, 1, 3, 0, 1, 3, 0, 0, 0, 0, 0],\n",
    "    'Nonbearing_Age_Acres_2017': [0, 0, 0, 0, 0, 0, 0, 0, 0, 0, 0, 0, 0]\n",
    "}\n",
    "\n",
    "# plot_fruit_data(figs_data, \"Figs\")"
   ]
  },
  {
   "cell_type": "code",
   "execution_count": 11,
   "id": "240a746a",
   "metadata": {},
   "outputs": [],
   "source": [
    "grapes_data = {\n",
    "    'Geographic_Area': ['New Jersey', 'Atlantic', 'Bergen', 'Burlington', 'Camden', 'Cape May', 'Cumberland', 'Essex', 'Gloucester', 'Hudson', 'Hunterdon', 'Mercer', 'Middlesex', 'Monmouth', 'Morris', 'Ocean', 'Passaic', 'Salem', 'Somerset', 'Sussex', 'Warren'],\n",
    "    'Total_Farms_2022': [245, 14, 1, 10, 8, 7, 15, 1, 37, 2, 46, 17, 14, 16, 7, 4, 6, 9, 10, 7, 14],\n",
    "    'Total_Acres_2022': [1484, 209, 0, 23, 0, 51, 146, 0, 241, 0, 149, 122, 14, 68, 21, 0, 0, 90, 24, 4, 108],\n",
    "    'Bearing_Age_Farms_2022': [195, 14, 1, 9, 6, 7, 13, 1, 33, 0, 26, 11, 14, 15, 3, 2, 6, 9, 10, 3, 12],\n",
    "    'Bearing_Age_Acres_2022': [1, 14, 0, 0, 0, 46, 124, 0, 201, 0, 92, 113, 0, 68, 20, 0, 0, 0, 21, 1, 0],\n",
    "    'Nonbearing_Age_Farms_2022': [112, 4, 1, 1, 7, 3, 5, 0, 18, 2, 35, 12, 1, 3, 4, 3, 0, 1, 6, 4, 5],\n",
    "    'Nonbearing_Age_Acres_2022': [206, 8, 0, 0, 0, 46, 124, 0, 201, 0, 92, 113, 0, 68, 20, 0, 0, 0, 21, 1, 0],\n",
    "    'Total_Farms_2017': [212, 14, 1, 8, 10, 10, 16, 0, 30, 0, 11, 11, 6, 20, 4, 4, 5, 7, 14, 27, 14],\n",
    "    'Total_Acres_2017': [1124, 121, 0, 18, 117, 80, 99, 0, 158, 0, 15, 92, 5, 110, 0, 0, 6, 39, 7, 76, 128],\n",
    "    'Bearing_Age_Farms_2017': [175, 14, 1, 2, 10, 9, 16, 0, 21, 0, 9, 8, 6, 18, 1, 2, 5, 7, 9, 23, 14],\n",
    "    'Bearing_Age_Acres_2017': [894, 97, 0, 2, 68, 69, 76, 0, 110, 0, 11, 4, 1, 69, 0, 0, 6, 39, 5, 59, 105],\n",
    "    'Nonbearing_Age_Farms_2017': [88, 3, 0, 6, 2, 5, 10, 0, 11, 0, 4, 4, 0, 8, 0, 0, 2, 6, 6, 8, 8],\n",
    "    'Nonbearing_Age_Acres_2017': [231, 24, 0, 0, 41, 10, 23, 0, 48, 0, 4, 0, 0, 41, 0, 0, 0, 23, 1, 17, 23]\n",
    "}\n",
    "\n",
    "# plot_fruit_data(grapes_data, \"Grapes\")"
   ]
  },
  {
   "cell_type": "code",
   "execution_count": 12,
   "id": "d508c8ce",
   "metadata": {},
   "outputs": [],
   "source": [
    "# skipped Guava, as 1 in Ocean in 2017, no longer any"
   ]
  },
  {
   "cell_type": "code",
   "execution_count": 13,
   "id": "60f49df9",
   "metadata": {},
   "outputs": [],
   "source": [
    "# skipped Kiwifruit, 0 in 2017, 6 in 2022, 3 Warren, 1 Atlantic, 1 Hunterdon, 1 Morris"
   ]
  },
  {
   "cell_type": "code",
   "execution_count": 14,
   "id": "2eb70b32",
   "metadata": {},
   "outputs": [],
   "source": [
    "nectarines_data = {\n",
    "    'Geographic_Area': ['New Jersey', 'Atlantic', 'Bergen', 'Burlington', 'Camden', 'Cumberland', 'Gloucester', 'Hunterdon', 'Mercer', 'Middlesex', 'Monmouth', 'Morris', 'Ocean', 'Salem', 'Somerset', 'Sussex', 'Warren'],\n",
    "    'Total_Farms_2022': [58, 1, 0, 1, 1, 5, 12, 5, 3, 1, 7, 11, 0, 4, 2, 2, 3],\n",
    "    'Total_Acres_2022': [264, 0, 0, 0, 0, 113, 71, 0, 1, 0, 12, 9, 0, 0, 0, 0, 2],\n",
    "    'Bearing_Age_Farms_2022': [55, 1, 0, 1, 1, 5, 10, 5, 3, 1, 7, 10, 0, 4, 2, 2, 3],\n",
    "    'Bearing_Age_Acres_2022': [255, 0, 0, 0, 0, 0, 0, 0, 0, 0, 0, 0, 0, 0, 0, 0, 1],\n",
    "    'Nonbearing_Age_Farms_2022': [14, 0, 0, 1, 0, 1, 3, 2, 2, 1, 3, 1, 0, 0, 0, 0, 0],\n",
    "    'Nonbearing_Age_Acres_2022': [9, 0, 0, 0, 0, 0, 0, 0, 0, 0, 0, 0, 0, 0, 0, 0, 2],\n",
    "    'Total_Farms_2017': [50, 1, 2, 4, 1, 4, 6, 7, 2, 1, 3, 4, 3, 4, 1, 2, 5],\n",
    "    'Total_Acres_2017': [363, 1, 2, 2, 1, 173, 82, 12, 2, 1, 9, 5, 0, 56, 0, 0, 5],\n",
    "    'Bearing_Age_Farms_2017': [44, 1, 2, 3, 1, 4, 6, 6, 2, 1, 3, 4, 0, 4, 0, 1, 5],\n",
    "    'Bearing_Age_Acres_2017': [350, 1, 2, 3, 1, 76, 110, 11, 1, 1, 7, 5, 0, 56, 0, 0, 5],\n",
    "    'Nonbearing_Age_Farms_2017': [13, 0, 1, 1, 0, 2, 1, 1, 0, 0, 3, 1, 0, 0, 0, 0, 0],\n",
    "    'Nonbearing_Age_Acres_2017': [14, 0, 0, 0, 0, 23, 0, 1, 0, 0, 2, 0, 0, 0, 0, 0, 0]\n",
    "}\n",
    "\n",
    "# plot_fruit_data(nectarines_data, \"Nectarines\")"
   ]
  },
  {
   "cell_type": "code",
   "execution_count": 15,
   "id": "62560383",
   "metadata": {},
   "outputs": [],
   "source": [
    "# skipped Olives, was 1 in Ocean in 2017, now 2 in Warren in 2022"
   ]
  },
  {
   "cell_type": "code",
   "execution_count": 16,
   "id": "bfeacba1",
   "metadata": {},
   "outputs": [],
   "source": [
    "# skipped Pawpaws (?!), no data in 2017, only 15 total in 2022, 6 in Burlington"
   ]
  },
  {
   "cell_type": "code",
   "execution_count": 17,
   "id": "577c972b",
   "metadata": {},
   "outputs": [],
   "source": [
    "all_peaches_data = {\n",
    "    'Geographic_Area': ['New Jersey', 'Atlantic', 'Bergen', 'Burlington', 'Camden', 'Cape May', 'Cumberland', 'Essex', 'Gloucester', 'Hudson', 'Hunterdon', 'Mercer', 'Middlesex', 'Monmouth', 'Morris', 'Ocean', 'Passaic', 'Salem', 'Somerset', 'Sussex', 'Warren'],\n",
    "    'Total_Farms_2022': [324, 14, 4, 23, 4, 0, 9, 0, 19, 2, 69, 17, 12, 14, 29, 9, 6, 7, 17, 37, 32],\n",
    "    'Total_Acres_2022': [3323, 16, 0, 67, 0, 0, 1238, 0, 1143, 0, 128, 39, 28, 102, 61, 7, 1, 272, 18, 46, 71],\n",
    "    'Bearing_Age_Farms_2022': [247, 2, 4, 15, 2, 0, 9, 0, 17, 2, 47, 14, 12, 10, 19, 6, 6, 5, 15, 31, 31],\n",
    "    'Bearing_Age_Acres_2022': [3153, 0, 0, 57, 0, 0, 0, 0, 1138, 0, 97, 27, 0, 0, 58, 0, 1, 0, 15, 40, 68],\n",
    "    'Nonbearing_Age_Farms_2022': [137, 12, 4, 11, 2, 0, 8, 1, 5, 0, 40, 8, 1, 5, 10, 9, 6, 3, 6, 9, 8],\n",
    "    'Nonbearing_Age_Acres_2022': [170, 0, 0, 10, 0, 0, 931, 0, 5, 0, 31, 12, 0, 0, 3, 1, 2, 0, 3, 6, 4],\n",
    "    'Total_Farms_2017': [281, 7, 3, 13, 4, 0, 8, 1, 19, 0, 49, 11, 9, 16, 16, 6, 6, 12, 20, 32, 45],\n",
    "    'Total_Acres_2017': [3362, 4, 18, 52, 4, 0, 931, 1, 929, 0, 121, 0, 20, 121, 56, 1, 2, 897, 14, 37, 71],\n",
    "    'Bearing_Age_Farms_2017': [229, 4, 3, 11, 4, 0, 7, 1, 18, 0, 49, 11, 5, 16, 11, 3, 6, 9, 12, 20, 37],\n",
    "    'Bearing_Age_Acres_2017': [3193, 4, 18, 45, 4, 0, 4, 1, 887, 0, 111, 22, 0, 106, 55, 0, 0, 897, 9, 31, 57],\n",
    "    'Nonbearing_Age_Farms_2017': [102, 3, 3, 5, 0, 0, 4, 0, 5, 0, 6, 3, 5, 0, 6, 5, 1, 4, 11, 18, 16],\n",
    "    'Nonbearing_Age_Acres_2017': [170, 0, 0, 7, 0, 0, 42, 0, 42, 0, 10, 0, 0, 14, 1, 0, 0, 0, 6, 7, 14]\n",
    "}\n",
    "\n",
    "# plot_fruit_data(all_peaches_data, \"All Peaches\")"
   ]
  },
  {
   "cell_type": "code",
   "execution_count": 18,
   "id": "ceb62376",
   "metadata": {},
   "outputs": [],
   "source": [
    "# got a few formatting errors for arrays not being the same length but ultimate got it fixed\n",
    "\n",
    "clingstone_peaches_data = {\n",
    "    'Geographic_Area': ['New Jersey', 'Atlantic', 'Bergen', 'Burlington', 'Camden', 'Cape May', 'Cumberland', 'Essex', 'Gloucester', 'Hunterdon', 'Mercer', 'Middlesex', 'Monmouth', 'Morris', 'Ocean', 'Passaic', 'Salem', 'Somerset', 'Sussex', 'Warren'],\n",
    "    'Total_Farms_2022': [165, 3, 1, 20, 3, 0, 0, 0, 9, 47, 7, 4, 8, 10, 7, 6, 1, 1, 7, 19],\n",
    "    'Total_Acres_2022': [446, 0, 0, 16, 0, 0, 0, 0, 0, 58, 2, 3, 22, 5, 0, 1, 0, 0, 6, 20],\n",
    "    'Bearing_Age_Farms_2022': [120, 1, 1, 12, 1, 0, 0, 0, 7, 31, 6, 4, 6, 4, 6, 6, 1, 1, 7, 14],\n",
    "    'Bearing_Age_Acres_2022': [404, 0, 0, 11, 0, 0, 0, 0, 0, 43, 0, 0, 0, 3, 0, 1, 0, 0, 16, 0],\n",
    "    'Nonbearing_Age_Farms_2022': [76, 2, 0, 10, 2, 0, 0, 0, 3, 28, 2, 1, 3, 6, 7, 0, 1, 4, 4, 5],\n",
    "    'Nonbearing_Age_Acres_2022': [42, 0, 0, 5, 0, 0, 0, 0, 1, 16, 0, 0, 0, 1, 0, 0, 0, 0, 1, 4],\n",
    "    'Total_Farms_2017': [133, 1, 1, 5, 3, 0, 0, 0, 6, 26, 3, 4, 5, 6, 5, 2, 1, 5, 11, 20],\n",
    "    'Total_Acres_2017': [418, 0, 0, 0, 30, 0, 0, 0, 0, 36, 1, 0, 0, 15, 0, 0, 0, 3, 4, 6],\n",
    "    'Bearing_Age_Farms_2017': [103, 1, 1, 0, 3, 0, 0, 0, 6, 26, 3, 0, 0, 5, 0, 0, 0, 4, 5, 9],\n",
    "    'Bearing_Age_Acres_2017': [370, 0, 0, 0, 30, 0, 0, 0, 0, 27, 0, 0, 0, 0, 0, 0, 0, 0, 0, 17],\n",
    "    'Nonbearing_Age_Farms_2017': [54, 0, 0, 3, 0, 0, 0, 0, 3, 3, 3, 0, 3, 2, 5, 1, 0, 6, 6, 6],\n",
    "    'Nonbearing_Age_Acres_2017': [48, 0, 0, 1, 0, 0, 0, 0, 1, 9, 0, 0, 2, 0, 0, 0, 0, 0, 0, 1]\n",
    "}\n",
    "\n",
    "# plot_fruit_data(clingstone_peaches_data, 'Clingstone Peaches')"
   ]
  },
  {
   "cell_type": "code",
   "execution_count": 19,
   "id": "29d07986",
   "metadata": {},
   "outputs": [],
   "source": [
    "# Freestone peaches are easy to remove from the pit and are ideal for eating out of hand,\n",
    "# while clingstones have a harder-to-remove pit\n",
    "# but a slightly sweeter taste and are great for canning."
   ]
  },
  {
   "cell_type": "code",
   "execution_count": 20,
   "id": "2a8270f8",
   "metadata": {},
   "outputs": [],
   "source": [
    "freestone_peaches_data = {\n",
    "    'Geographic_Area': ['New Jersey', 'Atlantic', 'Bergen', 'Burlington', 'Camden', 'Cape May', 'Cumberland', 'Essex', 'Gloucester', 'Hudson', 'Hunterdon', 'Mercer', 'Middlesex', 'Monmouth', 'Morris', 'Ocean', 'Passaic', 'Salem', 'Somerset', 'Sussex', 'Warren'],\n",
    "    'Total_Farms_2022': [205, 11, 4, 7, 3, 0, 9, 0, 15, 2, 28, 10, 8, 9, 22, 3, 0, 7, 14, 29, 24],\n",
    "    'Total_Acres_2022': [2877, 0, 24, 51, 0, 0, 1238, 0, 0, 0, 70, 37, 25, 79, 56, 0, 0, 7, 11, 26, 59],\n",
    "    'Bearing_Age_Farms_2022': [165, 1, 3, 6, 1, 0, 9, 0, 13, 2, 21, 8, 8, 7, 18, 0, 0, 5, 12, 28, 23],\n",
    "    'Bearing_Age_Acres_2022': [2749, 0, 0, 46, 0, 0, 0, 0, 0, 0, 54, 0, 25, 0, 55, 0, 0, 5, 10, 25, 0],\n",
    "    'Nonbearing_Age_Farms_2022': [78, 10, 4, 4, 2, 0, 2, 0, 5, 0, 15, 6, 0, 3, 4, 3, 0, 7, 6, 4, 6],\n",
    "    'Nonbearing_Age_Acres_2022': [128, 0, 0, 5, 0, 0, 0, 0, 4, 0, 15, 0, 0, 0, 1, 0, 0, 894, 2, 2, 0],\n",
    "    'Total_Farms_2017': [178, 6, 3, 11, 3, 0, 7, 0, 18, 0, 27, 8, 5, 12, 13, 1, 4, 7, 10, 13, 29],\n",
    "    'Total_Acres_2017': [2944, 3, 2, 0, 3, 0, 6, 0, 0, 0, 85, 8, 5, 12, 41, 0, 4, 894, 11, 31, 53],\n",
    "    'Bearing_Age_Farms_2017': [154, 3, 2, 11, 3, 0, 6, 0, 17, 0, 27, 8, 5, 12, 9, 0, 4, 5, 7, 12, 21],\n",
    "    'Bearing_Age_Acres_2017': [2822, 0, 0, 0, 30, 0, 0, 0, 0, 0, 84, 0, 0, 0, 0, 0, 0, 0, 7, 29, 40],\n",
    "    'Nonbearing_Age_Farms_2017': [53, 3, 3, 3, 0, 0, 3, 0, 4, 0, 4, 0, 1, 5, 5, 0, 0, 2, 6, 10, 13],\n",
    "    'Nonbearing_Age_Acres_2017': [122, 0, 0, 7, 0, 0, 0, 0, 0, 0, 1, 0, 1, 12, 4, 0, 0, 0, 4, 13, 0]\n",
    "}\n",
    "\n",
    "# plot_fruit_data(freestone_peaches_data, \"Freestone Peaches\")\n"
   ]
  },
  {
   "cell_type": "code",
   "execution_count": 21,
   "id": "fb515939",
   "metadata": {},
   "outputs": [],
   "source": [
    "all_pear_data = {\n",
    "    'Geographic_Area': ['New Jersey', 'Atlantic', 'Burlington', 'Cape May', 'Cumberland', 'Essex', 'Gloucester', 'Hudson', 'Hunterdon', 'Mercer', 'Middlesex', 'Monmouth', 'Morris', 'Ocean', 'Passaic', 'Salem', 'Somerset', 'Sussex', 'Warren'],\n",
    "    'Total_Farms_2022': [234, 5, 12, 0, 2, 0, 7, 2, 43, 17, 9, 18, 29, 8, 7, 9, 17, 30, 19],\n",
    "    'Total_Acres_2022': [280, 9, 6, 0, 0, 0, 23, 0, 43, 0, 10, 7, 9, 6, 7, 35, 6, 19, 11],\n",
    "    'Bearing_Age_Farms_2022': [163, 3, 11, 0, 2, 0, 5, 0, 29, 15, 9, 12, 5, 6, 7, 5, 15, 23, 16],\n",
    "    'Bearing_Age_Acres_2022': [234, 0, 5, 0, 0, 0, 22, 0, 39, 0, 2, 5, 0, 4, 0, 0, 0, 16, 9],\n",
    "    'Nonbearing_Age_Farms_2022': [106, 3, 5, 0, 1, 0, 3, 2, 19, 5, 2, 10, 25, 7, 1, 5, 4, 7, 8],\n",
    "    'Nonbearing_Age_Acres_2022': [46, 0, 1, 0, 0, 0, 1, 0, 4, 1, 0, 2, 0, 3, 0, 4, 2, 3, 3],\n",
    "    'Total_Farms_2017': [203, 16, 9, 4, 7, 1, 4, 0, 44, 8, 5, 11, 12, 8, 6, 6, 24, 22, 24],\n",
    "    'Total_Acres_2017': [484, 11, 1, 1, 1, 1, 21, 0, 52, 0, 3, 2, 7, 2, 4, 4, 6, 10, 16],\n",
    "    'Bearing_Age_Farms_2017': [145, 11, 1, 4, 1, 1, 4, 0, 38, 8, 2, 11, 9, 5, 4, 4, 11, 20, 16],\n",
    "    'Bearing_Age_Acres_2017': [0, 0, 0, 0, 0, 0, 0, 0, 48, 0, 0, 0, 0, 0, 0, 0, 4, 9, 11],\n",
    "    'Nonbearing_Age_Farms_2017': [78, 7, 8, 0, 1, 0, 1, 0, 11, 1, 1, 2, 7, 5, 2, 2, 13, 6, 10],\n",
    "    'Nonbearing_Age_Acres_2017': [0, 1, 0, 0, 0, 0, 1, 0, 5, 0, 0, 0, 0, 0, 0, 0, 2, 1, 5]\n",
    "}\n",
    "\n",
    "# plot_fruit_data(all_pear_data, \"All Pears\")\n"
   ]
  },
  {
   "cell_type": "code",
   "execution_count": 22,
   "id": "f25ff0f7",
   "metadata": {},
   "outputs": [],
   "source": [
    "bartlett_pears_data = {\n",
    "    'Geographic_Area': ['New Jersey', 'Atlantic', 'Burlington', 'Cumberland', 'Gloucester', 'Hunterdon', 'Mercer', 'Middlesex', 'Monmouth', 'Morris', 'Ocean', 'Passaic', 'Salem', 'Somerset', 'Sussex', 'Warren'],\n",
    "    'Total_Farms_2022': [124, 2, 7, 2, 3, 23, 6, 2, 9, 12, 8, 6, 3, 9, 21, 11],\n",
    "    'Total_Acres_2022': [76, 0, 2, 0, 0, 15, 1, 0, 2, 4, 6, 6, 1, 2, 13, 4],\n",
    "    'Bearing_Age_Farms_2022': [89, 2, 7, 2, 3, 10, 4, 2, 4, 4, 6, 6, 1, 7, 20, 11],\n",
    "    'Bearing_Age_Acres_2022': [52, 0, 2, 0, 0, 13, 0, 0, 1, 0, 4, 4, 0, 0, 0, 4],\n",
    "    'Nonbearing_Age_Farms_2022': [44, 1, 0, 0, 0, 14, 2, 0, 5, 9, 1, 2, 3, 2, 1, 0],\n",
    "    'Nonbearing_Age_Acres_2022': [24, 0, 0, 0, 0, 2, 0, 0, 1, 0, 1, 2, 0, 0, 0, 0],\n",
    "    'Total_Farms_2017': [88, 11, 3, 0, 1, 11, 0, 0, 6, 4, 5, 2, 4, 18, 8, 15],\n",
    "    'Total_Acres_2017': [42, 7, 1, 0, 0, 13, 0, 0, 1, 0, 1, 2, 0, 5, 2, 9],\n",
    "    'Bearing_Age_Farms_2017': [58, 8, 0, 0, 1, 10, 0, 0, 6, 4, 2, 2, 3, 8, 7, 7],\n",
    "    'Bearing_Age_Acres_2017': [0, 0, 0, 0, 0, 13, 0, 0, 1, 0, 0, 0, 0, 3, 0, 6],\n",
    "    'Nonbearing_Age_Farms_2017': [37, 5, 3, 0, 1, 3, 0, 0, 2, 4, 3, 0, 1, 10, 1, 8],\n",
    "    'Nonbearing_Age_Acres_2017': [0, 0, 0, 0, 0, 1, 0, 0, 1, 0, 0, 0, 0, 2, 0, 3]\n",
    "}\n",
    "\n",
    "# plot_fruit_data(bartlett_pears_data, \"Bartlett Pears\")\n"
   ]
  },
  {
   "cell_type": "code",
   "execution_count": 23,
   "id": "67440059",
   "metadata": {},
   "outputs": [],
   "source": [
    "non_bartlett_pears_data = {\n",
    "    'Geographic_Area': ['New Jersey', 'Atlantic', 'Burlington', 'Cape May', 'Cumberland', 'Essex', 'Gloucester', 'Hudson', 'Hunterdon', 'Mercer', 'Middlesex', 'Monmouth', 'Morris', 'Ocean', 'Passaic', 'Salem', 'Somerset', 'Sussex', 'Warren'],\n",
    "    'Total_Farms_2022': [158, 3, 11, 0, 0, 0, 5, 2, 28, 11, 7, 9, 20, 3, 6, 6, 8, 22, 17],\n",
    "    'Total_Acres_2022': [203, 0, 4, 0, 0, 0, 23, 0, 28, 0, 7, 5, 5, 0, 0, 4, 4, 6, 7],\n",
    "    'Bearing_Age_Farms_2022': [113, 1, 10, 0, 0, 0, 3, 0, 24, 11, 7, 8, 2, 1, 6, 4, 8, 15, 13],\n",
    "    'Bearing_Age_Acres_2022': [181, 0, 3, 0, 0, 0, 3, 0, 26, 0, 8, 4, 0, 0, 0, 16, 4, 20, 5],\n",
    "    'Nonbearing_Age_Farms_2022': [70, 2, 5, 0, 0, 0, 3, 0, 8, 3, 2, 5, 18, 2, 1, 2, 2, 6, 8],\n",
    "    'Nonbearing_Age_Acres_2022': [22, 0, 1, 0, 0, 0, 1, 0, 2, 0, 1, 1, 0, 0, 0, 0, 1, 1, 3],\n",
    "    'Total_Farms_2017': [150, 5, 7, 4, 1, 1, 4, 2, 43, 11, 7, 7, 8, 5, 5, 6, 8, 19, 20],\n",
    "    'Total_Acres_2017': [443, 0, 1, 1, 0, 0, 1, 0, 39, 0, 8, 1, 2, 1, 1, 1, 1, 8, 7],\n",
    "    'Bearing_Age_Farms_2017': [114, 3, 1, 0, 0, 0, 4, 0, 38, 8, 2, 7, 2, 0, 3, 4, 5, 16, 15],\n",
    "    'Bearing_Age_Acres_2017': [0, 0, 0, 0, 0, 0, 20, 0, 35, 0, 1, 1, 0, 0, 0, 0, 1, 6, 5],\n",
    "    'Nonbearing_Age_Farms_2017': [51, 2, 6, 1, 0, 0, 1, 0, 10, 1, 1, 2, 7, 3, 2, 1, 3, 6, 8],\n",
    "    'Nonbearing_Age_Acres_2017': [0, 0, 0, 0, 0, 0, 0, 0, 4, 0, 0, 0, 3, 0, 0, 0, 0, 1, 2]\n",
    "}\n",
    "\n",
    "# plot_fruit_data(non_bartlett_pears_data, \"Non-Bartlett Pears\")\n"
   ]
  },
  {
   "cell_type": "code",
   "execution_count": 24,
   "id": "d37d7ad1",
   "metadata": {},
   "outputs": [],
   "source": [
    "# skipped Persimmons, only 28, 14 of them in Hunterdon 2022 , 7 in Gloucester 2022"
   ]
  },
  {
   "cell_type": "code",
   "execution_count": 25,
   "id": "fd19e8c8",
   "metadata": {},
   "outputs": [],
   "source": [
    "# skipped PLUMCOTS, PLUOTS, AND OTHER PLUM-APRICOT HYBRIDS only 3 total - 2 in Gloucester, 1 in Morris"
   ]
  },
  {
   "cell_type": "code",
   "execution_count": 26,
   "id": "1e023644",
   "metadata": {},
   "outputs": [],
   "source": [
    "plums_prunes_data = {\n",
    "    'Geographic_Area': ['New Jersey', 'Atlantic', 'Burlington', 'Cape May', 'Cumberland', 'Gloucester', 'Hunterdon', 'Mercer', 'Middlesex', 'Monmouth', 'Morris', 'Ocean', 'Passaic', 'Salem', 'Somerset', 'Sussex', 'Warren'],\n",
    "    'Total_Farms_2022': [124, 1, 10, 8, 5, 11, 35, 2, 6, 5, 8, 2, 6, 2, 2, 16, 5],\n",
    "    'Total_Acres_2022': [553, 0, 1, 0, 450, 4, 10, 0, 2, 0, 4, 0, 1, 0, 0, 3, 4],\n",
    "    'Bearing_Age_Farms_2022': [87, 1, 5, 8, 5, 4, 20, 0, 6, 4, 4, 0, 6, 2, 2, 15, 5],\n",
    "    'Bearing_Age_Acres_2022': [536, 0, 1, 13, 450, 3, 7, 0, 2, 1, 3, 0, 1, 0, 0, 0, 2],\n",
    "    'Nonbearing_Age_Farms_2022': [52, 3, 5, 2, 0, 9, 23, 2, 0, 1, 4, 2, 2, 4, 0, 1, 3],\n",
    "    'Nonbearing_Age_Acres_2022': [17, 0, 1, 0, 0, 1, 3, 0, 0, 0, 1, 0, 0, 101, 0, 0, 2],\n",
    "    'Total_Farms_2017': [102, 9, 3, 15, 3, 8, 22, 0, 5, 4, 4, 6, 2, 4, 6, 7, 4],\n",
    "    'Total_Acres_2017': [508, 7, 0, 61, 300, 1, 9, 0, 1, 1, 0, 1, 1, 101, 1, 0, 0],\n",
    "    'Bearing_Age_Farms_2017': [65, 9, 1, 12, 3, 2, 18, 0, 1, 4, 1, 2, 2, 4, 0, 5, 2],\n",
    "    'Bearing_Age_Acres_2017': [0, 7, 0, 57, 0, 1, 35, 0, 1, 1, 0, 0, 0, 101, 0, 0, 0],\n",
    "    'Nonbearing_Age_Farms_2017': [47, 3, 2, 4, 1, 6, 6, 0, 4, 2, 3, 2, 0, 0, 6, 2, 2],\n",
    "    'Nonbearing_Age_Acres_2017': [0, 3, 0, 4, 0, 1, 2, 0, 0, 0, 0, 0, 0, 0, 1, 0, 0]\n",
    "}\n",
    "\n",
    "# plot_fruit_data(plums_prunes_data, \"Plums and Prunes\")"
   ]
  },
  {
   "cell_type": "code",
   "execution_count": 27,
   "id": "3efd64b2",
   "metadata": {},
   "outputs": [],
   "source": [
    "# skipped pomegranates, 3 in Hunterdon, 2 in Warren"
   ]
  },
  {
   "cell_type": "code",
   "execution_count": 28,
   "id": "f711f699",
   "metadata": {},
   "outputs": [],
   "source": [
    "# skipped \"other noncitrus\" fruits, only 16 total"
   ]
  },
  {
   "cell_type": "code",
   "execution_count": null,
   "id": "4f900e0b",
   "metadata": {},
   "outputs": [],
   "source": []
  }
 ],
 "metadata": {
  "kernelspec": {
   "display_name": "Python 3 (ipykernel)",
   "language": "python",
   "name": "python3"
  },
  "language_info": {
   "codemirror_mode": {
    "name": "ipython",
    "version": 3
   },
   "file_extension": ".py",
   "mimetype": "text/x-python",
   "name": "python",
   "nbconvert_exporter": "python",
   "pygments_lexer": "ipython3",
   "version": "3.11.5"
  }
 },
 "nbformat": 4,
 "nbformat_minor": 5
}
